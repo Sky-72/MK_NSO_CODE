{
 "cells": [
  {
   "cell_type": "markdown",
   "metadata": {},
   "source": [
    "# Imports and Class"
   ]
  },
  {
   "cell_type": "code",
   "execution_count": null,
   "metadata": {},
   "outputs": [],
   "source": [
    "import numpy as np\n",
    "import sunpy as sp\n",
    "import cv2\n",
    "import matplotlib.pyplot as plt\n",
    "import matplotlib.colors\n",
    "import scipy.io as sc\n",
    "from scipy import ndimage\n",
    "from astropy.io import fits \n",
    "#import matplotlib.animation as ani\n",
    "import glob\n",
    "from scipy.optimize import fmin\n",
    "from scipy.ndimage.measurements import center_of_mass\n",
    "from scipy.interpolate import UnivariateSpline\n",
    "import matplotlib.patches as patches\n",
    "%matplotlib inline"
   ]
  },
  {
   "cell_type": "code",
   "execution_count": null,
   "metadata": {},
   "outputs": [],
   "source": [
    "class SolarData:\n",
    "    \n",
    "    def getData(self, filename):\n",
    "        '''Function to read a .SAV IDL file\n",
    "        -----------------------------------\n",
    "        Imput: .Sav file extension\n",
    "        '''\n",
    "        \n",
    "        mData = sc.readsav(filename, verbose = True)\n",
    "        return mData\n",
    "    \n",
    "    def NBplot(self, name, wavel, num = 0):\n",
    "        '''Function for Plotting Narrowband Images\n",
    "        -------------------------------------------\n",
    "        Imputs: \n",
    "            name = Name of file \\n\n",
    "            wavel = wavelength of images \\n\n",
    "            num = image number (Set at 0 initially) \\n\n",
    "        -------------------------------------------- \\n\n",
    "        Outputs = Image of sun'''\n",
    "        \n",
    "        sData = name.nb_data_dstr\n",
    "        plt.figure(figsize=(10,10))\n",
    "        plt.title('Sun at {} angstroms'.format(wavel))\n",
    "        plt.imshow(sData[num,:,:], interpolation='none', cmap= 'gist_gray', origin = 'lower')\n",
    "        plt.colorbar()\n",
    "        plt.show()\n",
    "        \n",
    "    def BBplot(self, name, wavel, num = 0):\n",
    "        '''Function for Plotting BroadBand Images\n",
    "        -------------------------------------------\n",
    "        Imputs:\n",
    "            name = Name of file \\n\n",
    "            wavel = wavelength of images \\n\n",
    "            num = image number (Set at 0 initially) \\n\n",
    "        -------------------------------------------- \\n\n",
    "        Outputs = Image of sun'''\n",
    "        \n",
    "        sData = name.bb_data_dstr\n",
    "        plt.figure(figsize=(10,10))\n",
    "        plt.title('Sun at {} angstroms'.format(wavel))\n",
    "        plt.imshow(sData[num,:,:], interpolation='none', cmap= 'gist_gray', origin = 'lower')\n",
    "        plt.colorbar()\n",
    "        plt.show()\n",
    "        \n",
    "    def Createcontoursgraph(self, name, wavel, num = 0):\n",
    "        '''Function for Plotting a Contour Image\n",
    "        -------------------------------------------\n",
    "        Imputs: \\n\n",
    "            name = Name of file \\n\n",
    "            wavel = wavelength of images \\n\n",
    "            num = image number (Set at 0 initially) \\n\n",
    "        -------------------------------------------- \\n\n",
    "        Outputs:  Image of sun contour lines'''\n",
    "        \n",
    "        mdata = name.nb_data_dstr[num,:,:]\n",
    "        contours = ndimage.filters.gaussian_filter(mdata,5,mode='nearest')\n",
    "        plt.figure(figsize=(10,10))\n",
    "        plt.title('Sun at {} angstroms'.format(wavel))\n",
    "        plt.imshow(mdata, interpolation='none', cmap= 'gist_gray', origin = 'lower')\n",
    "        plt.colorbar()\n",
    "        plt.contour(contours)\n",
    "        plt.show()\n",
    "        \n",
    "    \n",
    "    def rowplot(self, name, num = 0, y = 0):\n",
    "        '''Function to create line plot from cut of image\n",
    "        -------------------------------------------------\n",
    "        Imputs: \\n\n",
    "            Name = name of file \\n\n",
    "            num = image number \\n\n",
    "            y = row in y \\n\n",
    "        Outputs: \\n\n",
    "            Line plot of light curve  \\n\n",
    "        '''\n",
    "        gdata = name.nb_data_dstr\n",
    "        plt.figure(figsize=(10,10))\n",
    "        plt.title(f'Image {num}')\n",
    "        plt.ylabel('Light Intesity')\n",
    "        plt.xlabel('x position')\n",
    "        plt.plot(gdata[num,y,:])\n",
    "        plt.show()\n",
    "                \n",
    "    def findminx(self, name):\n",
    "        \n",
    "        xmdata = name.nb_data_dstr\n",
    "        minx = []\n",
    "        for i in range(len(xmdata[0,:,:])):\n",
    "            minx.append([])\n",
    "            for c in range(len(xmdata[0,:,:])):\n",
    "                count = 4\n",
    "                x = []\n",
    "                y = []\n",
    "                while count <= 8:\n",
    "                    dat = xmdata[count,i,c]\n",
    "                    x.append(count)\n",
    "                    y.append(dat)\n",
    "                    count += 1\n",
    "                var = np.polyfit(x,y,2)\n",
    "                a = var[0]\n",
    "                b = var[1]\n",
    "                d = var[2]\n",
    "                eq = lambda x: a*x**2 + b*x + d \n",
    "                if a > 0:\n",
    "                    mini = fmin(eq,6,disp=0)\n",
    "                    minx[i].append(mini.tolist())\n",
    "                else:\n",
    "                    mini = fmin(lambda z: -eq(z), 6, disp = 0)\n",
    "                    minx[i].append(mini.tolist())\n",
    "                    continue\n",
    "                \n",
    "        xmin = minx\n",
    "        return xmin\n",
    "    \n",
    "    def findminy(self, name):\n",
    "        \n",
    "        xmdata = name.nb_data_dstr\n",
    "        miny = []\n",
    "        for i in range(len(xmdata[0,:,:])):\n",
    "            miny.append([])\n",
    "            for c in range(len(xmdata[0,:,:])):\n",
    "                count = 4\n",
    "                x = []\n",
    "                y = []\n",
    "                while count <= 8:\n",
    "                    dat = xmdata[count,i,c]\n",
    "                    x.append(count)\n",
    "                    y.append(dat)\n",
    "                    count += 1\n",
    "                var = np.polyfit(x,y,2)\n",
    "                a = var[0]\n",
    "                b = var[1]\n",
    "                d = var[2]\n",
    "                eq = lambda z: a*z**2 + b*z + d \n",
    "                if a > 0:\n",
    "                    mini = fmin(eq,6,disp=0)\n",
    "                    ysol = eq(mini)\n",
    "                    miny[i].append(ysol.tolist())\n",
    "                else:\n",
    "                    mini = fmin(lambda z: -eq(z), 6, disp = 0)\n",
    "                    ysol = eq(mini)\n",
    "                    miny[i].append(ysol.tolist())\n",
    "                    continue\n",
    "                    \n",
    "        ymin = miny\n",
    "        \n",
    "        return ymin\n",
    "    \n",
    "    def Mystats(self,name, x1 = 0, x2 = 999, y1 = 0, y2 = 999):\n",
    "        sdata = name.bb_data_dstr\n",
    "        mean = np.mean(sdata[:,x1:x2,y1:y2])\n",
    "        rms = np.std(sdata[:,x1:x2,y1:y2])\n",
    "        per = rms/mean\n",
    "        \n",
    "        return mean, rms, per\n",
    "        \n",
    "    def rms(self,name,x1 = 0, x2 = 999, y1 = 0, y2 = 999):\n",
    "        rmsdata = name.bb_data_dstr\n",
    "        rmsarray = []\n",
    "        for i in range(len(rmsdata[:,0,0])):\n",
    "            rms = np.std(rmsdata[i,y1:y2,x1:x2])\n",
    "            rmsarray.append(rms)\n",
    "        \n",
    "        return rmsarray\n",
    "    \n",
    "    def brms(self,name,x1 = 0, x2 = 999, y1 = 0, y2 = 999):\n",
    "        rmsdata = name.bb_data_dstr\n",
    "        \n",
    "        rms = np.std(rmsdata[:,y1:y2,x1:x2])\n",
    "\n",
    "        return rms\n",
    "    \n",
    "    def linewidth(self,name,mp1 = 2, mp2 = 10):\n",
    "        xmdata = name.nb_data_dstr\n",
    "        width = []\n",
    "        for i in range(len(xmdata[0,:,:])):\n",
    "            width.append([])\n",
    "            for c in range(len(xmdata[0,:,:])):\n",
    "                count = 2\n",
    "                x = []\n",
    "                y = []\n",
    "                while count <= 10:\n",
    "                    dat = xmdata[count,i,c]\n",
    "                    x.append(count)\n",
    "                    y.append(dat)\n",
    "                    count += 1\n",
    "                var = UnivariateSpline(x,y)\n",
    "                \n",
    "                p1 = var(mp1)\n",
    "                p2 = var(mp2)\n",
    "                mini = fmin(var,6,disp=0)\n",
    "                ysol = eq(mini)\n",
    "                avemax = (p1+p2)/2\n",
    "                if avemax > ysol:\n",
    "                    midnum = (avemax - ysol) / 2\n",
    "                midpnt = ysol + midnum\n",
    "                newd = d - midpnt\n",
    "                vari = [a,b,newd]\n",
    "                points = np.roots(vari)\n",
    "                lw = points[0] - points[1]\n",
    "                width[i].append(lw)\n",
    "            \n",
    "               \n",
    "        linewidth = np.array(width)\n",
    "        \n",
    "        return linewidth\n",
    "    \n",
    "    def cogfit(self, name, num = 6, relint = 2300):\n",
    "        '''Function to Fit data with Center of Gravity\n",
    "        -----------------------------------------------\n",
    "        Inputs:\n",
    "        - num = Image number'''\n",
    "        cogdata = name.nb_data_dstr\n",
    "        x = []\n",
    "        y = []\n",
    "        for i in range(len(cogdata[0,:,:])):\n",
    "            com = center_of_mass(cogdata[num,i,:]>relint)\n",
    "            y.append(i)\n",
    "            x.append(com)\n",
    "        \n",
    "        return x, y \n",
    "    \n",
    "    def cogfitmk2(self, data, num = 6, lim = 2500):\n",
    "    \n",
    "        cogdata = data.nb_data_crrt\n",
    "        x = []\n",
    "        y = []\n",
    "        for i in range(len(cogdata[num,:,:])):\n",
    "            com = center_of_mass(cogdata[num,i,:] * (cogdata[num,i,:] > lim))\n",
    "            x.append(com)\n",
    "            y.append(i)\n",
    "            \n",
    "        return x, y \n",
    "                \n",
    "    def pre6173(self, name):\n",
    "        \n",
    "        predata = name.nb_data_dstr\n",
    "        lnth = len(predata[:,500,500])\n",
    "        precurve = []\n",
    "        \n",
    "        for i in range(len(predata[0,0,:])):\n",
    "            \n",
    "            anum = (predata[0,500,500]-predata[9,500,500])\n",
    "            slope = anum/9\n",
    "            eq3 = lambda x: -slope*x+data2.nb_data_dstr[0,500,500]\n",
    "    \n",
    "    \n",
    "    def openall(sefl, wavel = 6563, band = 'nb'):\n",
    "        dataname = glob.glob(f'/workspace/mkatilius/IDL/mData/20141025/results_000/{wavel}/' +band+ f'/{wavel}_'+ band+'nb*.sav')\n",
    "        data = []\n",
    "        for i in range(len(dataname)):\n",
    "            datna = sc.readsav(dataname[i], verbose = True)\n",
    "            data.append(datna)\n",
    "        \n",
    "        return data\n",
    "    \n",
    " #   def prefiltcorrect(self, wavel = 6563)\n",
    "        \n",
    "            \n",
    "    def Createmovie(self,wavel, num = 0):\n",
    "        ''' WIP \n",
    "        Function to Create a movie of one image from whole data set\n",
    "        -----------------------------------------------------------\n",
    "        Input: \\n \n",
    "            Wavel = wavelength \\n\n",
    "            num = image number \\n\n",
    "        Output: \\n\n",
    "            Movie of sun to see movement of gasses'\n",
    "        -----------------------------------------------------------'''\n",
    "      \n",
    "        FFMpegWriter = ani.writers['ffmpeg']\n",
    "\n",
    "        writer = FFMpegWriter(fps=10)\n",
    "\n",
    "        fig = plt.figure(figsize=(10, 10))\n",
    "        \n",
    "        filename = glob.glob(F\"/workspace/mkatilius/IDL/mData/20141025/results_000/{wavel}/nb/{wavel}_nb*.sav\")\n",
    "        \n",
    "        with writer.saving(fig, \"Test.mp4\", 100):\n",
    "            \n",
    "            for i, f in enumerate(filename):\n",
    "                file = sc.readsav(f)\n",
    "                im = file.nb_data_dstr[num,:,:]\n",
    "                \n",
    "                plt.title(f'Sun at {wavel} angstroms')\n",
    "                plt.imshow(im, interpolation='none', cmap= 'gist_gray', origin = 'lower')\n",
    "                writer.grab_frame()"
   ]
  },
  {
   "cell_type": "markdown",
   "metadata": {},
   "source": [
    "# Solar Data Input"
   ]
  },
  {
   "cell_type": "code",
   "execution_count": null,
   "metadata": {},
   "outputs": [],
   "source": [
    "S = SolarData()"
   ]
  },
  {
   "cell_type": "code",
   "execution_count": null,
   "metadata": {
    "scrolled": true
   },
   "outputs": [],
   "source": [
    "data1 = S.getData('/workspace/mkatilius/IDL/mData/20141025/prefiltcalib/6563_nbn/6563_nbn000.sav')\n",
    "data2 = S.getData('/workspace/mkatilius/IDL/mData/20141025/prefiltcalib/6173_nbn/6173_nbn000.sav')\n",
    "#data3 = S.getData('/workspace/mkatilius/IDL/mData/20141025/results_000/6563/nb/6563_nb173.sav')\n",
    "#'/workspace/mkatilius/IDL/mData/20141025/results_000/6563/nb/\n",
    "#'/workspace/mkatilius/IDL/mData/20141025/calibration/6563_prefilter.sav'\n",
    "#'D:\\\\Coding\\\\Harris\\\\IDL\\\\DATA_Minda\\\\20141025\\\\results_000\\\\6563\\\\nb\\\\6563_nb000.sav'"
   ]
  },
  {
   "cell_type": "code",
   "execution_count": null,
   "metadata": {},
   "outputs": [],
   "source": [
    "xtickha = ['0',f'{200*.0954204:0.3f}',f'{400*.0954204:0.3f}',f'{600*.0954204:0.3f}',\n",
    "         f'{800*.0954204:0.3f}',f'{1000*.0954204:0.3f}']\n",
    "ytickha = ['0',f'{200*.0974302:0.3f}',f'{400*.0974302:0.3f}',f'{600*.0974302:0.3f}',\n",
    "         f'{800*.0974302:0.3f}',f'{1000*.0974302:0.3f}']\n",
    "xtickir = ['0',f'{200*.0953200:0.4f}',f'{400*.0953200:0.4f}',f'{600*.0953200:0.4f}',\n",
    "         f'{800*.0953200:0.4f}',f'{1000*.0953200:0.4f}']\n",
    "ytickir = ['0',f'{200*.0974150:0.3f}',f'{400*.0974150:0.3f}',f'{600*.0974150:0.3f}',\n",
    "         f'{800*.0974150:0.3f}',f'{1000*.0974150:0.3f}']"
   ]
  },
  {
   "cell_type": "code",
   "execution_count": null,
   "metadata": {},
   "outputs": [],
   "source": [
    "f, ax = plt.subplots(nrows = 2, ncols = 3, figsize = (20,12), sharey = True, sharex = True)\n",
    "f.subplots_adjust(wspace=0.0, hspace=0.2)\n",
    "f.suptitle('H-Alpha Scans of the Sun', fontsize = 30)\n",
    "waveha = data1.info_nb['WAVE'][0]\n",
    "\n",
    "plt.setp(ax, xticks=[0, 200, 400, 600, 800, 999], xticklabels=ytickha ,\n",
    "         yticks=[0, 200, 400, 600, 800, 999], yticklabels = xtickha)\n",
    "\n",
    "ax[0,0].imshow(data1.nb_data_crrt[2,:,:].T, origin = 'lowerleft', cmap = 'gray')\n",
    "#ax[1].imshow(data1.nb_data_crrt[3,:,:].T, origin = 'lowerleft', cmap = 'gray')\n",
    "ax[0,1].imshow(data1.nb_data_crrt[4,:,:].T, origin = 'lowerleft', cmap = 'gray')\n",
    "#ax[3].imshow(data1.nb_data_crrt[5,:,:], origin = 'lowerleft', cmap = 'gray')\n",
    "ax[0,2].imshow(data1.nb_data_crrt[6,:,:].T, origin = 'lowerleft', cmap = 'gray')\n",
    "#ax[5].imshow(data1.nb_data_crrt[7,:,:], origin = 'lowerleft', cmap = 'gray')\n",
    "ax[1,0].imshow(data1.nb_data_crrt[8,:,:].T, origin = 'lowerleft', cmap = 'gray')\n",
    "#ax[7].imshow(data1.nb_data_crrt[9,:,:], origin = 'lowerleft', cmap = 'gray')\n",
    "ax[1,1].imshow(data1.nb_data_crrt[10,:,:].T, origin = 'lowerleft', cmap = 'gray')\n",
    "#ax[9].imshow(data1.nb_data_crrt[11,:,:], origin = 'lowerleft', cmap = 'gray')\n",
    "ax[1,2].imshow(data1.nb_data_crrt[12,:,:].T, origin = 'lowerleft', cmap = 'gray')\n",
    "\n",
    "ax[0,0].set_title(f'{waveha[2]/10:.3f} nm', fontsize = 14)\n",
    "#ax[1].set_title(f'{waveha[3]/10:.2f} nm')\n",
    "ax[0,1].set_title(f'{waveha[4]/10:.3f} nm', fontsize = 14)\n",
    "#ax[3].set_title(f'{waveha[5]/10:.2f} nm')\n",
    "ax[0,2].set_title(f'{waveha[6]/10:.3f} nm', fontsize = 14)\n",
    "#ax[5].set_title(f'{waveha[7]/10:.2f} nm')\n",
    "ax[1,0].set_title(f'{waveha[8]/10:.3f} nm', fontsize = 14)\n",
    "#ax[7].set_title(f'{waveha[9]/10:.2f} nm')\n",
    "ax[1,1].set_title(f'{waveha[10]/10:.3f} nm', fontsize = 14)\n",
    "#ax[9].set_title(f'{waveha[11]/10:.2f} nm')\n",
    "ax[1,2].set_title(f'{waveha[12]/10:.3f} nm', fontsize = 14)\n",
    "\n",
    "#ax[1,0].set_xticklabels(ytickha)\n",
    "#ax[1,1].set_xticklabels(ytickha)\n",
    "#ax[1,2].set_xticklabels(ytickha)\n",
    "#ax[0,0].set_yticklabels(xtickha)\n",
    "#ax[1,0].set_yticklabels(xtickha)\n",
    "\n",
    "ax[0,0].set_ylabel('y [arcsec]')\n",
    "ax[1,0].set_ylabel('y [arcsec]')\n",
    "\n",
    "ax[1,0].set_xlabel('x [arcsec]')\n",
    "ax[1,1].set_xlabel('x [arcsec]')\n",
    "ax[1,2].set_xlabel('x [arcsec]')\n",
    "#ax[].set_xlabel('x [arcsec]')\n",
    "#ax[4].set_xlabel('x [arcsec]')\n",
    "#ax[5].set_xlabel('x [arcsec]')\n",
    "\n",
    "f.savefig('Wavelength_points_HA.png')"
   ]
  },
  {
   "cell_type": "code",
   "execution_count": null,
   "metadata": {},
   "outputs": [],
   "source": [
    "f2, ax2 = plt.subplots(nrows = 2, ncols = 3, figsize = (20,12), sharey = True)\n",
    "f2.subplots_adjust(wspace=0.0, hspace=0.2)\n",
    "f2.suptitle('Iron I Scans of the Sun', fontsize = 25)\n",
    "waveir = data2.info_nb['WAVE'][0]\n",
    "\n",
    "plt.setp(ax2, xticks=[0, 200, 400, 600, 800, 999], xticklabels = ytickir ,\n",
    "         yticks=[0, 200, 400, 600, 800, 999], yticklabels = xtickir)\n",
    "\n",
    "ax2[0,0].imshow(data2.nb_data_crrt[0,:,:].T, origin = 'lowerleft', cmap = 'gray')\n",
    "#ax2[1].imshow(data2.nb_data_crrt[1,:,:].T, origin = 'lowerleft', cmap = 'gray')\n",
    "ax2[0,1].imshow(data2.nb_data_crrt[2,:,:].T, origin = 'lowerleft', cmap = 'gray')\n",
    "#ax2[3].imshow(data2.nb_data_crrt[3,:,:].T, origin = 'lowerleft', cmap = 'gray')\n",
    "ax2[0,2].imshow(data2.nb_data_crrt[4,:,:].T, origin = 'lowerleft', cmap = 'gray')\n",
    "#ax2[5].imshow(data2.nb_data_crrt[5,:,:].T, origin = 'lowerleft', cmap = 'gray')\n",
    "ax2[1,0].imshow(data2.nb_data_crrt[6,:,:].T, origin = 'lowerleft', cmap = 'gray')\n",
    "#ax2[7].imshow(data2.nb_data_crrt[7,:,:].T, origin = 'lowerleft', cmap = 'gray')\n",
    "ax2[1,1].imshow(data2.nb_data_crrt[8,:,:].T, origin = 'lowerleft', cmap = 'gray')\n",
    "#ax2[9].imshow(data2.nb_data_crrt[9,:,:].T, origin = 'lowerleft', cmap = 'gray')\n",
    "\n",
    "ax2[0,0].set_title(f'{waveir[0]/10:.3f} nm', fontsize = 16)\n",
    "#ax2[1].set_title(f'Sun at Wavelength {waveir[1]/10:.2f}')\n",
    "ax2[0,1].set_title(f'{waveir[2]/10:.3f} nm', fontsize = 16)\n",
    "#ax2[3].set_title(f'Sun at Wavelength {waveir[3]/10:.2f}')\n",
    "ax2[0,2].set_title(f'{waveir[4]/10:.3f} nm', fontsize = 16)\n",
    "#ax2[5].set_title(f'Sun at Wavelength {waveir[5]/10:.2f}')\n",
    "ax2[1,0].set_title(f'{waveir[6]/10:.3f} nm', fontsize = 16)\n",
    "#ax2[7].set_title(f'Sun at Wavelength {waveir[7]/10:.2f}')\n",
    "ax2[1,1].set_title(f'{waveir[8]/10:.3f} nm', fontsize = 16)\n",
    "#ax2[9].set_title(f'Sun at Wavelength {waveir[9]/10:.2f}')\n",
    "\n",
    "ax2[1,2].axis('off')\n",
    "#ax2[1,0].set_xticklabels(ytickir)\n",
    "#ax2[1,1].set_xticklabels(ytickir)\n",
    "#ax2[0,0].set_xticklabels(ytickir)\n",
    "#ax2[0,1].set_xticklabels(ytickir)\n",
    "#ax2[0,2].set_xticklabels(ytickir)\n",
    "#ax2[0,0].set_yticklabels(xtickir)\n",
    "#ax2[0,1].set_yticklabels(xtickir)\n",
    "\n",
    "ax2[0,0].set_ylabel('y [arcsec]')\n",
    "ax2[1,0].set_ylabel('y [arcsec]')\n",
    "ax2[0,0].set_xlabel('x [arcsec]')\n",
    "ax2[0,1].set_xlabel('x [arcsec]')\n",
    "ax2[0,2].set_xlabel('x [arcsec]')\n",
    "ax2[1,0].set_xlabel('x [arcsec]')\n",
    "ax2[1,1].set_xlabel('x [arcsec]')\n",
    "\n",
    "f2.savefig('Wavelength_points_FEI.png')"
   ]
  },
  {
   "cell_type": "markdown",
   "metadata": {},
   "source": [
    "# Alignment Test"
   ]
  },
  {
   "cell_type": "code",
   "execution_count": null,
   "metadata": {},
   "outputs": [],
   "source": [
    "x = []\n",
    "for i in range(len(data1.nb_data_dstr[0,0,:])):\n",
    "    x.append([])\n",
    "    for a in range(len(data1.nb_data_dstr[0,0,:])):\n",
    "        if data1.nb_data_dstr[0,i,a] == data1.nb_data_dstr[0,0,0]:\n",
    "            x[i].append(0)\n",
    "            continue\n",
    "        else:\n",
    "            x[i].append(data1.nb_data_dstr[0,i,a])\n",
    "y = []\n",
    "for i in range(len(data2.nb_data_dstr[0,0,:])):\n",
    "    y.append([])\n",
    "    for a in range(len(data2.nb_data_dstr[0,0,:])):\n",
    "        if data2.nb_data_dstr[0,i,a] == data2.nb_data_dstr[0,0,0]:\n",
    "            y[i].append(0)\n",
    "            continue\n",
    "        else:\n",
    "            y[i].append(data2.nb_data_dstr[0,i,a])\n",
    "xmin, xmax = np.percentile(x,(5,95))\n",
    "ymin, ymax = np.percentile(y,(5,95))"
   ]
  },
  {
   "cell_type": "code",
   "execution_count": null,
   "metadata": {
    "scrolled": false
   },
   "outputs": [],
   "source": [
    "plt.figure(figsize = (10,10))\n",
    "plt.imshow(data1.nb_data_dstr[6,:,:].T,origin = 'lowerleft', cmap = 'gray')\n",
    "plt.axis('off')\n",
    "plt.savefig('6563_nb000_aligntest.jpg',transparent=True)\n",
    "#plt.figure(figsize = (10,10))\n",
    "#plt.imshow(data2.nb_data_dstr[0,:,:],origin = 'lowerleft', cmap = 'gray')\n",
    "#plt.axis('off')\n",
    "#plt.savefig('6173_nb000_aligntest.jpg',transparent=True)"
   ]
  },
  {
   "cell_type": "markdown",
   "metadata": {},
   "source": [
    "# Masks and COG Fits"
   ]
  },
  {
   "cell_type": "code",
   "execution_count": null,
   "metadata": {},
   "outputs": [],
   "source": [
    "x,y = S.cogfitmk2(data1,num = 6, lim = 2300)\n",
    "#x1,y1 = S.cogfit(data3, num = 6, relint = 2300)"
   ]
  },
  {
   "cell_type": "code",
   "execution_count": null,
   "metadata": {
    "scrolled": true
   },
   "outputs": [],
   "source": [
    "plt.figure(figsize = (10,10))\n",
    "plt.imshow(data1.nb_data_crrt[6,:,:].T * (data1.nb_data_crrt[6,:,:].T>2300),origin = 'lowerleft', cmap = 'gray')\n",
    "plt.scatter(y,x, c = 'red', s = 0.5)\n",
    "plt.show()\n",
    "plt.figure(figsize = (10,10))\n",
    "plt.imshow(data1.nb_data_crrt[6,:,:].T,origin = 'lowerleft', cmap = 'gray')\n",
    "plt.scatter(y,x, c = 'red', s = 0.5)"
   ]
  },
  {
   "cell_type": "code",
   "execution_count": null,
   "metadata": {
    "scrolled": false
   },
   "outputs": [],
   "source": [
    "xtickha = ['0',f'{200*.0954204:0.3f}',f'{400*.0954204:0.3f}',f'{600*.0954204:0.3f}',\n",
    "         f'{800*.0954204:0.3f}',f'{1000*.0954204:0.3f}']\n",
    "ytickha = ['0',f'{200*.0974302:0.3f}',f'{400*.0974302:0.3f}',f'{600*.0974302:0.3f}',\n",
    "         f'{800*.0974302:0.3f}',f'{1000*.0974302:0.3f}']\n",
    "plt.figure(figsize = (10,10))\n",
    "plt.imshow(data1.nb_data_crrt[6,:,:].T * (data1.nb_data_crrt[6,:,:].T>2300),origin = 'lowerleft', cmap = 'gray')\n",
    "#plt.scatter(x,y, c = 'red', s = 0.5)\n",
    "plt.title('Flare Mask')\n",
    "plt.xlabel('x [Arcsec]')\n",
    "plt.ylabel('y [Arcsec]')\n",
    "plt.xticks(np.arange(0,1001,200), xtickha)\n",
    "plt.yticks(np.arange(0,1001,200), ytickha)\n",
    "plt.savefig('Flare_mask.png')\n",
    "plt.show()\n",
    "plt.figure(figsize = (10,10))\n",
    "plt.imshow(data1.nb_data_crrt[6,:,:].T,origin = 'lowerleft', cmap = 'gray')\n",
    "plt.scatter(y,x, c = 'red', s = 0.5)\n",
    "plt.title('Scatter Plot Over Flare Image')\n",
    "plt.xlabel('x [Arcsec]')\n",
    "plt.ylabel('y [Arcsec]')\n",
    "plt.xticks(np.arange(0,1001,200), xtickha)\n",
    "plt.yticks(np.arange(0,1001,200), ytickha)\n",
    "plt.savefig('ScatterFlare.png')\n",
    "plt.show()"
   ]
  },
  {
   "cell_type": "code",
   "execution_count": null,
   "metadata": {},
   "outputs": [],
   "source": [
    "plt.ylim((0,1000))\n",
    "plt.xlim((0,1000))\n",
    "plt.scatter(x,y , c = 'blue')\n",
    "plt.scatter(x1,y1, c = 'red')"
   ]
  },
  {
   "cell_type": "markdown",
   "metadata": {},
   "source": [
    "\n",
    "# Finding Minimums"
   ]
  },
  {
   "cell_type": "code",
   "execution_count": null,
   "metadata": {},
   "outputs": [],
   "source": [
    "minx = S.findminx(data1)"
   ]
  },
  {
   "cell_type": "code",
   "execution_count": null,
   "metadata": {},
   "outputs": [],
   "source": [
    "miny = S.findminy(data1)"
   ]
  },
  {
   "cell_type": "code",
   "execution_count": null,
   "metadata": {},
   "outputs": [],
   "source": [
    "count = 4\n",
    "x = []\n",
    "y = []\n",
    "while count <= 8:\n",
    "    dat = data1.nb_data_dstr[count,500,500]\n",
    "    x.append(count)\n",
    "    y.append(dat)\n",
    "    count += 1\n",
    "var = np.polyfit(x,y,2)\n",
    "a = var[0]\n",
    "b = var[1]\n",
    "d = var[2]\n",
    "eq = lambda x: a*x**2 + b*x + d\n",
    "mini = fmin(eq,6,disp=0)\n",
    "print(mini,eq(mini))"
   ]
  },
  {
   "cell_type": "markdown",
   "metadata": {},
   "source": [
    "# Finding Prefilter Curve"
   ]
  },
  {
   "cell_type": "code",
   "execution_count": null,
   "metadata": {},
   "outputs": [],
   "source": [
    "Ffdata = S.getData('/workspace/mkatilius/IDL/mData/20141025/calibration/6563_flat.sav')\n",
    "#'/workspace/mkatilius/IDL/mData/20141025/results_000/6563/nb/'\n",
    "#'D:\\\\Coding\\\\Harris\\\\IDL\\\\DATA_Minda\\\\20141025\\\\calibration\\\\6563_flat.sav'"
   ]
  },
  {
   "cell_type": "code",
   "execution_count": null,
   "metadata": {},
   "outputs": [],
   "source": [
    "ndata = []\n",
    "for i in range(13):\n",
    "    ndata.append([])\n",
    "    for a in range(1):\n",
    "        ndata[i].append([])\n",
    "        for b in range(1):\n",
    "            means = np.mean(Ffdata.flat[i,450:550,450:550])\n",
    "            ndata[i][a].append(means)\n",
    "numd = []\n",
    "for i in range(13):\n",
    "    numd.append(np.array(ndata)[i,0,0])\n",
    "numd = np.array(numd)"
   ]
  },
  {
   "cell_type": "code",
   "execution_count": null,
   "metadata": {},
   "outputs": [],
   "source": [
    "hadata = S.getData('atlas_ha.sav')"
   ]
  },
  {
   "cell_type": "code",
   "execution_count": null,
   "metadata": {
    "scrolled": true
   },
   "outputs": [],
   "source": [
    "#print(hadata.p[1200:1700])\n",
    "#print(hadata.xl[1200:1700])\n",
    "\n",
    "numd[2:11]"
   ]
  },
  {
   "cell_type": "code",
   "execution_count": null,
   "metadata": {},
   "outputs": [],
   "source": [
    "ndatha = [hadata.p[1223],hadata.p[1270],hadata.p[1320],hadata.p[1370],\n",
    "           hadata.p[1420],hadata.p[1470],hadata.p[1520],hadata.p[1570],hadata.p[1610]]\n",
    "ndathax = [hadata.xl[1223],hadata.xl[1270],hadata.xl[1320],hadata.xl[1370],\n",
    "           hadata.xl[1420],hadata.xl[1470],hadata.xl[1520],hadata.xl[1570],hadata.xl[1610]]\n",
    "print(ndatha)\n",
    "print(ndathax)"
   ]
  },
  {
   "cell_type": "code",
   "execution_count": null,
   "metadata": {},
   "outputs": [],
   "source": [
    "plt.plot(ndathax,ndatha)\n",
    "plt.plot(ndathax,numd[2:11])"
   ]
  },
  {
   "cell_type": "code",
   "execution_count": null,
   "metadata": {},
   "outputs": [],
   "source": [
    "prefilterc = ndatha/numd[2:11]\n",
    "plt.plot(np.arange(0,9),prefilterc)"
   ]
  },
  {
   "cell_type": "code",
   "execution_count": null,
   "metadata": {},
   "outputs": [],
   "source": [
    "havar = np.polyfit(x,ndatha,2)\n",
    "datavar = np.polyfit(x,numd[2:11], 2)\n",
    "eq1 = lambda x: havar[0]*x**2 + havar[1]*x + havar[2]\n",
    "eq2 = lambda z: datavar[0]*z**2 + datavar[1]*z + datavar[2]"
   ]
  },
  {
   "cell_type": "code",
   "execution_count": null,
   "metadata": {},
   "outputs": [],
   "source": [
    "plt.plot(data2.nb_data_dstr[:,500,500])\n",
    "anum = (data2.nb_data_dstr[0,500,500]-data2.nb_data_dstr[9,500,500])\n",
    "slope = anum/9\n",
    "\n",
    "eq3 = lambda x: -slope*x+data2.nb_data_dstr[0,500,500]\n",
    "x = np.arange(0,10)\n",
    "plt.plot(x,eq3(x))"
   ]
  },
  {
   "cell_type": "code",
   "execution_count": null,
   "metadata": {},
   "outputs": [],
   "source": [
    "newline = data2.nb_data_dstr[:,500,500]/eq3(x)\n",
    "plt.plot(newline)"
   ]
  },
  {
   "cell_type": "markdown",
   "metadata": {},
   "source": [
    "# RMS Calculations from BroadBand"
   ]
  },
  {
   "cell_type": "markdown",
   "metadata": {},
   "source": [
    "## H-Alpha"
   ]
  },
  {
   "cell_type": "code",
   "execution_count": null,
   "metadata": {},
   "outputs": [],
   "source": [
    "dataname = glob.glob('/workspace/mkatilius/IDL/mData/20141025/results_000/6563/bb/6563_bb*.sav')\n",
    "databbha = []\n",
    "\n",
    "for i in range(len(dataname)):\n",
    "    datax = S.getData(dataname[i])\n",
    "    databbha.append(datax)"
   ]
  },
  {
   "cell_type": "code",
   "execution_count": null,
   "metadata": {
    "scrolled": true
   },
   "outputs": [],
   "source": [
    "fitsname = sorted(glob.glob('/workspace/mkatilius/IDL/mData/20141025/whitelight/ScienceObservation/20141025_160750/s*.ScienceObservation.fits'))\n",
    "times = []\n",
    "for i in range(len(fitsname)):\n",
    "    hdul = fits.open(fitsname[i])\n",
    "    ti = hdul[1].header['DATE-OBS']\n",
    "    timcut = ti[11:]\n",
    "    times.append(timcut)"
   ]
  },
  {
   "cell_type": "code",
   "execution_count": null,
   "metadata": {},
   "outputs": [],
   "source": [
    "timeticks = []\n",
    "for i in range(50):\n",
    "    timeticks.append(f'{(i*20.31)/60:.03f}')"
   ]
  },
  {
   "cell_type": "code",
   "execution_count": null,
   "metadata": {},
   "outputs": [],
   "source": [
    "rmsvalha = []\n",
    "for i in range(len(dataname)):\n",
    "    rmsha = S.rms(databbha[i], x1 = 250, x2 = 500, y1 = 100, y2 = 250)\n",
    "    rmsvalha.append(rmsha)\n",
    "rmsvalha2 = []\n",
    "for i in range(len(dataname)):\n",
    "    rmsha2 = S.brms(databbha[i], x1 = 250, x2 = 500, y1 = 100, y2 = 250)\n",
    "    rmsvalha2.append(rmsha2)"
   ]
  },
  {
   "cell_type": "code",
   "execution_count": null,
   "metadata": {},
   "outputs": [],
   "source": [
    "rmsdataha = []\n",
    "for i in range(len(rmsvalha)):\n",
    "    for c in range(len(rmsvalha[1])):\n",
    "        rmsdataha.append(rmsvalha[i][c])"
   ]
  },
  {
   "cell_type": "code",
   "execution_count": null,
   "metadata": {},
   "outputs": [],
   "source": [
    "maxrmsha = np.amax(rmsdataha)\n",
    "rmsdataha1 = rmsdataha/maxrmsha\n",
    "maxrmsha2 = np.amax(rmsvalha2)\n",
    "rmsdataha2 = rmsvalha2/maxrmsha2"
   ]
  },
  {
   "cell_type": "code",
   "execution_count": null,
   "metadata": {},
   "outputs": [],
   "source": [
    "plt.figure(figsize=(25,10))\n",
    "plt.xlim(0,len(rmsdataha1))\n",
    "plt.plot(np.arange(0,len(rmsdataha1)),rmsdataha1)\n",
    "for i in range(len(rmsdataha1)):\n",
    "    if i % 14 == 0:\n",
    "        plt.axvline(i,marker = ',', color='r')\n",
    "plt.title(r'H$\\alpha $ RMS plot', fontsize = 30)\n",
    "plt.ylabel('Normalized RMS Value', fontsize = 25)\n",
    "plt.xlabel('Time [Minutes]', fontsize = 25)\n",
    "plt.xticks(np.arange(0,len(rmsdataha1),56),(timeticks))\n",
    "plt.savefig('rmsplotHalpha.png')"
   ]
  },
  {
   "cell_type": "code",
   "execution_count": null,
   "metadata": {},
   "outputs": [],
   "source": [
    "plt.figure(figsize=(20,10))\n",
    "plt.xlim(0,len(rmsdataha2))\n",
    "plt.plot(np.arange(0,len(rmsdataha2)),rmsdataha2)\n",
    "plt.title(r'Basic H$\\alpha $ RMS plot', fontsize = 25)\n",
    "plt.ylabel('RMS Value percentage', fontsize = 20)\n",
    "plt.xlabel('File Number', fontsize = 20)\n",
    "plt.xticks(np.arange(0,len(rmsdataha2),5))\n",
    "plt.savefig('rms2plotHalpha.png')"
   ]
  },
  {
   "cell_type": "code",
   "execution_count": null,
   "metadata": {},
   "outputs": [],
   "source": [
    "xtickha = ['0',f'{200*.0946605:0.4f}',f'{400*.0946605:0.4f}',f'{600*.0946605:0.4f}',\n",
    "         f'{800*.0946605:0.4f}',f'{1000*.0946605:0.4f}']\n",
    "ytickha = ['0',f'{200*.0967937:0.3f}',f'{400*.0967937:0.3f}',f'{600*.0967937:0.3f}',\n",
    "         f'{800*.0967937:0.3f}',f'{1000*.0967937:0.3f}']\n",
    "fig,ax = plt.subplots(1,figsize = (10,10))\n",
    "plt.setp(ax, xticks=[0, 200, 400, 600, 800, 999], xticklabels=ytickha ,\n",
    "         yticks=[0, 200, 400, 600, 800, 999], yticklabels = xtickha)\n",
    "ax.set_title('Location of H-Alpha RMS value Calculations')\n",
    "ax.set_ylabel('y [arcsec]')\n",
    "ax.set_xlabel('x [arcsec]')\n",
    "# Display the image\n",
    "ax.imshow(databbha[0].bb_data_dstr[0,:,:].T,origin = 'lowerleft', cmap = 'gray',)\n",
    "\n",
    "# Create a Rectangle patch\n",
    "rect = patches.Rectangle((100,250),150,250,linewidth=1,edgecolor='r',facecolor='none')\n",
    "    \n",
    "# Add the patch to the Axes\n",
    "ax.add_patch(rect)\n",
    "plt.savefig('RMS_Value_Calc_Image_Halpha.png')"
   ]
  },
  {
   "cell_type": "code",
   "execution_count": null,
   "metadata": {},
   "outputs": [],
   "source": [
    "plt.imshow(databbha[0].bb_data_dstr[0,100:250,250:500],origin = 'lowerleft', cmap = 'gray',)"
   ]
  },
  {
   "cell_type": "markdown",
   "metadata": {},
   "source": [
    "## Iron I"
   ]
  },
  {
   "cell_type": "code",
   "execution_count": null,
   "metadata": {},
   "outputs": [],
   "source": [
    "dataname2 = glob.glob('/workspace/mkatilius/IDL/mData/20141025/results_000/6173/bb/6173_bb*.sav')\n",
    "databbir = []\n",
    "\n",
    "for i in range(len(dataname2)):\n",
    "    datax2 = S.getData(dataname2[i])\n",
    "    databbir.append(datax2)"
   ]
  },
  {
   "cell_type": "code",
   "execution_count": null,
   "metadata": {},
   "outputs": [],
   "source": [
    "rmsvalir = []\n",
    "for i in range(len(dataname2)):\n",
    "    rmsir = S.rms(databbir[i], x1 = 250, x2 = 500, y1 = 100, y2 = 250)\n",
    "    rmsvalir.append(rmsir)\n",
    "rmsvalir2 = []\n",
    "for i in range(len(dataname2)):\n",
    "    rmsir2 = S.brms(databbir[i], x1 = 250, x2 = 500, y1 = 100, y2 = 250)\n",
    "    rmsvalir2.append(rmsir2)"
   ]
  },
  {
   "cell_type": "code",
   "execution_count": null,
   "metadata": {},
   "outputs": [],
   "source": [
    "rmsdatair = []\n",
    "for i in range(len(rmsvalir)):\n",
    "    for c in range(len(rmsvalir[1])):\n",
    "        rmsdatair.append(rmsvalir[i][c])"
   ]
  },
  {
   "cell_type": "code",
   "execution_count": null,
   "metadata": {},
   "outputs": [],
   "source": [
    "maxrmsir = np.amax(rmsdatair)\n",
    "rmsdatair1 = rmsdatair/maxrmsir\n",
    "maxrmsir2 = np.amax(rmsvalir2)\n",
    "rmsdatair2 = rmsvalir2/maxrmsir2"
   ]
  },
  {
   "cell_type": "code",
   "execution_count": null,
   "metadata": {},
   "outputs": [],
   "source": [
    "plt.figure(figsize=(25,10))\n",
    "plt.xlim(0,len(rmsdatair1))\n",
    "plt.plot(np.arange(0,len(rmsdatair1)),rmsdatair1)\n",
    "for i in range(len(rmsdatair1)):\n",
    "    if i % 10 == 0:\n",
    "        plt.axvline(i,marker = ',', color='r')\n",
    "plt.title('Fe I RMS plot', fontsize = 30)\n",
    "plt.ylabel('Normalized RMS Value', fontsize = 25)\n",
    "plt.xlabel('Time [Minutes]', fontsize = 25)\n",
    "plt.xticks(np.arange(0,len(rmsdatair1),40),timeticks)\n",
    "plt.savefig('rmsplotIronI.png')"
   ]
  },
  {
   "cell_type": "code",
   "execution_count": null,
   "metadata": {},
   "outputs": [],
   "source": [
    "plt.figure(figsize=(20,10))\n",
    "plt.xlim(0,len(rmsdatair2))\n",
    "plt.plot(np.arange(0,len(rmsdatair2)),rmsdatair2)\n",
    "plt.title('Basic Fe I RMS plot', fontsize = 25)\n",
    "plt.ylabel('RMS Value percentage', fontsize = 20)\n",
    "plt.xlabel('File Number', fontsize = 20)\n",
    "plt.xticks(np.arange(0,len(rmsdatair2),5))\n",
    "plt.savefig('rms2plotIronI.png')"
   ]
  },
  {
   "cell_type": "code",
   "execution_count": null,
   "metadata": {},
   "outputs": [],
   "source": [
    "xtickir = ['0',f'{200*.0946345:0.4f}',f'{400*.0946345:0.4f}',f'{600*.0946345:0.4f}',\n",
    "         f'{800*.0946345:0.4f}',f'{1000*.0946345:0.4f}']\n",
    "ytickir = ['0',f'{200*.0968169:0.3f}',f'{400*.0968169:0.3f}',f'{600*.0968169:0.3f}',\n",
    "         f'{800*.0968169:0.3f}',f'{1000*.0968169:0.3f}']\n",
    "fig,ax = plt.subplots(1,figsize = (10,10))\n",
    "plt.setp(ax, xticks=[0, 200, 400, 600, 800, 999], xticklabels=ytickir ,\n",
    "         yticks=[0, 200, 400, 600, 800, 999], yticklabels = xtickir)\n",
    "ax.set_title('Location of Iron I RMS value Calculations')\n",
    "ax.set_ylabel('y [arcsec]')\n",
    "ax.set_xlabel('x [arcsec]')\n",
    "# Display the image\n",
    "ax.imshow(databbir[0].bb_data_dstr[0,:,:].T,origin = 'lowerleft', cmap = 'gray',)\n",
    "\n",
    "# Create a Rectangle patch\n",
    "rect = patches.Rectangle((100,250),150,250,linewidth=1,edgecolor='r',facecolor='none')\n",
    "    \n",
    "# Add the patch to the Axes\n",
    "ax.add_patch(rect)\n",
    "plt.savefig('RMS_Value_Calc_Image_IronI.png')"
   ]
  },
  {
   "cell_type": "markdown",
   "metadata": {},
   "source": [
    "# Testing Spline Coding"
   ]
  },
  {
   "cell_type": "code",
   "execution_count": null,
   "metadata": {},
   "outputs": [],
   "source": [
    "for i in range(len(data1.nb_data_dstr[0,500,:])):\n",
    "    count = 2\n",
    "    x = []\n",
    "    y = []\n",
    "    while count <= 10:\n",
    "        dat = data1.nb_data_dstr[count,350,i]\n",
    "        x.append(count)\n",
    "        y.append(dat)\n",
    "        count += 1\n",
    "    var = UnivariateSpline(x,y,k=4)\n",
    "    mini = fmin(var,6,disp = 0)\n",
    "    mid = (var(2)+var(10))/2\n",
    "    np.mean((mid,var(mini)))\n",
    "    if i % 10:\n",
    "        xnew = np.arange(2,10.1,.1)\n",
    "        plt.plot(data1.nb_data_dstr[:,350,i])\n",
    "        plt.plot(xnew,var(xnew))\n",
    "        plt.show()"
   ]
  },
  {
   "cell_type": "code",
   "execution_count": null,
   "metadata": {},
   "outputs": [],
   "source": [
    "xnew = np.arange(2,11,.1)\n",
    "plt.plot(data1.nb_data_dstr[:,350,350])\n",
    "plt.plot(xnew,var(xnew))"
   ]
  },
  {
   "cell_type": "code",
   "execution_count": null,
   "metadata": {},
   "outputs": [],
   "source": [
    "count = 4\n",
    "x = []\n",
    "y = []\n",
    "while count <= 8:\n",
    "    dat = data1.nb_data_dstr[count,500,500]\n",
    "    x.append(count)\n",
    "    y.append(dat)\n",
    "    count += 1\n",
    "var = np.polyfit(x,y,2)\n",
    "a = var[0]\n",
    "b = var[1]\n",
    "d = var[2]\n",
    "eq = lambda x: a*x**2 + b*x + d \n",
    "mini = fmin(eq,6,disp=0)\n",
    "eq(mini)"
   ]
  },
  {
   "cell_type": "code",
   "execution_count": null,
   "metadata": {},
   "outputs": [],
   "source": [
    "plt.plot(data1.nb_data_dstr[:,500,500])"
   ]
  },
  {
   "cell_type": "markdown",
   "metadata": {},
   "source": [
    "# Image Alignment and Other Things\n"
   ]
  },
  {
   "cell_type": "code",
   "execution_count": null,
   "metadata": {
    "scrolled": true
   },
   "outputs": [],
   "source": [
    "plt.figure(figsize = (15,15))\n",
    "plt.imshow(data1.nb_data_dstr[6,:,:], cmap = 'gray', origin = 'lowerleft')\n",
    "plt.show()"
   ]
  },
  {
   "cell_type": "code",
   "execution_count": null,
   "metadata": {},
   "outputs": [],
   "source": [
    "hdul = fits.open('/workspace/mkatilius/IDL/mData/20141025/scans/ScienceObservation/20141025_160750/s000.ScienceObservation.fits')"
   ]
  },
  {
   "cell_type": "code",
   "execution_count": null,
   "metadata": {},
   "outputs": [],
   "source": [
    "predata = S.getData('/workspace/mkatilius/IDL/mData/20141025/calibration/6563_prefilter.sav')"
   ]
  },
  {
   "cell_type": "code",
   "execution_count": null,
   "metadata": {},
   "outputs": [],
   "source": [
    "newdata = Ffdata.flat[:,200,200]/predata.prefilter_curve\n",
    "plt.plot(data1.info_nb.WAVE[0],newdata)\n",
    "plt.plot(hadata.xl,hadata.p)"
   ]
  },
  {
   "cell_type": "code",
   "execution_count": null,
   "metadata": {},
   "outputs": [],
   "source": [
    "x = []\n",
    "for i in range(14):\n",
    "    x.append(np.mean(data1.nb_data_dstr[i,450:550,450:550]))"
   ]
  },
  {
   "cell_type": "code",
   "execution_count": null,
   "metadata": {},
   "outputs": [],
   "source": [
    "plt.figure(figsize= (10,10))\n",
    "ndata = data1.nb_data_dstr[:,350,350]/predata.prefilter_curve\n",
    "plt.plot(data1.info_nb.WAVE[0],ndata*2.55)\n",
    "plt.plot(hadata.xl,hadata.p)"
   ]
  },
  {
   "cell_type": "code",
   "execution_count": null,
   "metadata": {},
   "outputs": [],
   "source": [
    "data1.nb_data_dstr[0,10,:]"
   ]
  },
  {
   "cell_type": "code",
   "execution_count": null,
   "metadata": {},
   "outputs": [],
   "source": [
    "x = []\n",
    "for i in range(len(data1.nb_data_dstr[0,0,:])):\n",
    "    x.append([])\n",
    "    for a in range(len(data1.nb_data_dstr[0,0,:])):\n",
    "        if data1.nb_data_dstr[0,i,a] == data1.nb_data_dstr[0,0,0]:\n",
    "            x[i].append(0)\n",
    "            continue\n",
    "        else:\n",
    "            x[i].append(data1.nb_data_dstr[0,i,a])"
   ]
  },
  {
   "cell_type": "code",
   "execution_count": null,
   "metadata": {
    "scrolled": false
   },
   "outputs": [],
   "source": [
    "plt.imshow(x, origin = 'lowerleft', cmap = 'gray')"
   ]
  },
  {
   "cell_type": "markdown",
   "metadata": {},
   "source": [
    "# Prefilter Graphs"
   ]
  },
  {
   "cell_type": "code",
   "execution_count": null,
   "metadata": {
    "scrolled": true
   },
   "outputs": [],
   "source": [
    "hflats = S.getData('/workspace/mkatilius/IDL/mData/20141025/calibration/6563_flat.sav')\n",
    "irflats = S.getData('/workspace/mkatilius/IDL/mData/20141025/calibration/6173_flat.sav')\n",
    "hpref = S.getData('/workspace/mkatilius/IDL/mData/20141025/calibration/6563_prefilter.sav')\n",
    "irpref = S.getData('/workspace/mkatilius/IDL/mData/20141025/calibration/6173_prefilter.sav')"
   ]
  },
  {
   "cell_type": "code",
   "execution_count": null,
   "metadata": {},
   "outputs": [],
   "source": [
    "avehflat = []\n",
    "for i in range(14):\n",
    "    means = np.mean(hflats.flat[i,450:550,450:550])\n",
    "    avehflat.append(means)\n",
    "avehflat = np.array(avehflat)\n",
    "aveirflat = []\n",
    "for i in range(10):\n",
    "    means = np.mean(irflats.flat[i,450:550,450:550])\n",
    "    aveirflat.append(means)\n",
    "aveirflat = np.array(aveirflat)"
   ]
  },
  {
   "cell_type": "code",
   "execution_count": null,
   "metadata": {},
   "outputs": [],
   "source": [
    "maxh = max(avehflat)\n",
    "iron1pref = aveirflat/irpref.prefilter_curve\n",
    "halphapref = avehflat/hpref.prefilter_curve\n",
    "iron1n = (iron1pref[0] + iron1pref[9])/2\n",
    "halphan = (halphapref[2] + halphapref[10])/2"
   ]
  },
  {
   "cell_type": "code",
   "execution_count": null,
   "metadata": {},
   "outputs": [],
   "source": [
    "plt.plot(data1.info_nb['WAVE'][0]/10,avehflat/halphan, label = 'No Correction')\n",
    "plt.plot(data1.info_nb['WAVE'][0]/10,halphapref/halphan, label = 'Corrected')\n",
    "plt.xlabel('Wavelength (nm)')\n",
    "plt.ylabel('Normalized Light Intensity')\n",
    "plt.title('H-Alpha Corrections')\n",
    "plt.legend()\n",
    "plt.savefig('Halpha Corrections')\n",
    "plt.show()\n",
    "\n",
    "plt.plot(data2.info_nb['WAVE'][0]/10,aveirflat/iron1n, label = 'No Correction')\n",
    "plt.plot(data2.info_nb['WAVE'][0]/10,iron1pref/iron1n, label = 'Corrected')\n",
    "plt.xlabel('Wavelength (nm)')\n",
    "plt.ylabel('Normalized Light Intensity')\n",
    "plt.title('Iron I Corrections')\n",
    "plt.legend()\n",
    "plt.savefig('Iron I Corrections.jpg')\n",
    "plt.show()"
   ]
  },
  {
   "cell_type": "markdown",
   "metadata": {},
   "source": [
    "# Pixel Walking Graphs"
   ]
  },
  {
   "cell_type": "code",
   "execution_count": null,
   "metadata": {
    "scrolled": true
   },
   "outputs": [],
   "source": [
    "dataname = glob.glob('/workspace/mkatilius/IDL/mData/20141025/prefiltcalib/6563_nbn/6563_nbn*.sav')\n",
    "datanbnha = []\n",
    "\n",
    "for i in range(len(dataname)):\n",
    "    datax = S.getData(dataname[i])\n",
    "    datanbnha.append(datax)"
   ]
  },
  {
   "cell_type": "code",
   "execution_count": null,
   "metadata": {
    "scrolled": true
   },
   "outputs": [],
   "source": [
    "plt.figure(figsize = (10,10))\n",
    "plt.imshow(datanbnha[89].nb_data_crrt[6,:,:].T, origin = 'lowerleft', cmap = 'gray')\n",
    "xtickha = ['0',f'{200*.0954204:0.3f}',f'{400*.0954204:0.3f}',f'{600*.0954204:0.3f}',\n",
    "         f'{800*.0954204:0.3f}',f'{1000*.0954204:0.3f}']\n",
    "ytickha = ['0',f'{200*.0974302:0.3f}',f'{400*.0974302:0.3f}',f'{600*.0974302:0.3f}',\n",
    "         f'{800*.0974302:0.3f}',f'{1000*.0974302:0.3f}']"
   ]
  },
  {
   "cell_type": "code",
   "execution_count": null,
   "metadata": {},
   "outputs": [],
   "source": [
    "xtickha = ['0',f'{200*.0954204:0.3f}',f'{400*.0954204:0.3f}',f'{600*.0954204:0.3f}',\n",
    "         f'{800*.0954204:0.3f}',f'{1000*.0954204:0.3f}']\n",
    "ytickha = ['0',f'{200*.0974302:0.3f}',f'{400*.0974302:0.3f}',f'{600*.0974302:0.3f}',\n",
    "         f'{800*.0974302:0.3f}',f'{1000*.0974302:0.3f}']\n",
    "fig,ax = plt.subplots(1,figsize = (10,10))\n",
    "ax.set_title('Location of Averaged Light Intensity')\n",
    "plt.setp(ax, xticks=[0, 200, 400, 600, 800, 999], xticklabels=ytickha ,\n",
    "         yticks=[0, 200, 400, 600, 800, 999], yticklabels = xtickha)\n",
    "ax.set_ylabel('y [arcsec]')\n",
    "ax.set_xlabel('x [arcsec]')\n",
    "# Display the image\n",
    "ax.imshow(datanbnha[89].nb_data_crrt[6,:,:].T, origin = 'lowerleft', cmap = 'gray')\n",
    "ax.scatter(589,260, c = 'lightgreen', s = 75, marker = 'x')\n",
    "\n",
    "# Create a Rectangle patch\n",
    "rect1 = patches.Rectangle((675,400),50,50,linewidth=1,edgecolor='b',facecolor='none')\n",
    "rect2 = patches.Rectangle((400,275),30,40,linewidth=1,edgecolor='orange',facecolor='none')\n",
    "\n",
    "# Add the patch to the Axes\n",
    "ax.add_patch(rect1)\n",
    "ax.add_patch(rect2)\n",
    "fig.savefig('FlarelightInt.png')"
   ]
  },
  {
   "cell_type": "code",
   "execution_count": null,
   "metadata": {},
   "outputs": [],
   "source": [
    "meanf = []\n",
    "meanq = []\n",
    "for i in range(14):\n",
    "    avef = np.mean(datanbnha[89].nb_data_crrt[i,400:430,275:315])\n",
    "    aveq = np.mean(datanbnha[89].nb_data_crrt[i,675:725,400:450])\n",
    "    meanf.append(avef)\n",
    "    meanq.append(aveq)"
   ]
  },
  {
   "cell_type": "code",
   "execution_count": null,
   "metadata": {},
   "outputs": [],
   "source": [
    "nmal = (meanq[2]+meanq[10])/2\n",
    "wave = datanbnha[89].info_nb['WAVE'][0]"
   ]
  },
  {
   "cell_type": "code",
   "execution_count": null,
   "metadata": {},
   "outputs": [],
   "source": [
    "f, (ax1, ax2) = plt.subplots(nrows = 1, ncols = 2, sharey = True, figsize = (20,8))\n",
    "ax1.plot(wave/10, meanq/nmal)\n",
    "ax2.plot(wave/10, meanf/nmal)"
   ]
  },
  {
   "cell_type": "code",
   "execution_count": null,
   "metadata": {},
   "outputs": [],
   "source": [
    "plt.figure(figsize = (10,8))\n",
    "plt.plot(wave/10, meanq/nmal, label = 'Outside Flare')\n",
    "plt.plot(wave/10, meanf/nmal, label = 'Inside Flare')\n",
    "plt.title('Averaged Light Intesity Inside and Outside Flare')\n",
    "plt.legend()\n",
    "plt.xlabel('Wavelength [nm]')\n",
    "plt.ylabel('Normalized Light Intensity')\n",
    "plt.savefig('AveLightFlare')\n",
    "plt.show()"
   ]
  },
  {
   "cell_type": "code",
   "execution_count": null,
   "metadata": {
    "scrolled": true
   },
   "outputs": [],
   "source": [
    "nnal1 = (datanbnha[0].nb_data_crrt[2,589,260] + datanbnha[0].nb_data_crrt[10,589,260])/2\n",
    "for i in range(len(datanbnha)):\n",
    "    plt.plot(wave/10,datanbnha[i].nb_data_crrt[:,589,260]/nnal1)\n",
    "    plt.ylim((0.6,1.3))\n",
    "    plt.title(f'File Number {i}')\n",
    "    plt.show()"
   ]
  },
  {
   "cell_type": "code",
   "execution_count": null,
   "metadata": {},
   "outputs": [],
   "source": [
    "hdul = fits.open('/workspace/mkatilius/IDL/mData/20141025/scans/ScienceObservation/20141025_160750/s060.ScienceObservation.fits')\n",
    "hdul.info()\n",
    "plt.imshow(hdul[1].data)"
   ]
  },
  {
   "cell_type": "code",
   "execution_count": null,
   "metadata": {},
   "outputs": [],
   "source": [
    "plt.figure(figsize = (10,8))\n",
    "plt.plot(wave/10,datanbnha[1].nb_data_crrt[:,589,260]/nnal1, label = '16:08 UTC')\n",
    "plt.plot(wave/10,datanbnha[60].nb_data_crrt[:,589,260]/nnal1, label = '16:13 UTC')\n",
    "plt.plot(wave/10,datanbnha[135].nb_data_crrt[:,589,260]/nnal1, label = '16:19 UTC')\n",
    "plt.plot(wave/10,datanbnha[160].nb_data_crrt[:,589,260]/nnal1, label = '16:21 UTC')\n",
    "plt.ylabel('Normalize Light Intensity')\n",
    "plt.xlabel('Wavelength [nm]')\n",
    "plt.title('Change in Spectrum with Pixel by Flare')\n",
    "plt.legend()\n",
    "plt.savefig('Flarechangespec')\n",
    "plt.show()"
   ]
  },
  {
   "cell_type": "markdown",
   "metadata": {},
   "source": [
    "# Bisector Graphs"
   ]
  },
  {
   "cell_type": "code",
   "execution_count": null,
   "metadata": {
    "scrolled": true
   },
   "outputs": [],
   "source": [
    "bisec = S.getData('/workspace/mkatilius/IDL/mData/20141025/bisec/6563_bisec_089.sav')"
   ]
  },
  {
   "cell_type": "code",
   "execution_count": null,
   "metadata": {},
   "outputs": [],
   "source": [
    "av56 = (data1.info_nb['WAVE'][0][6] - data1.info_nb['WAVE'][0][5])/10\n",
    "av67 = (data1.info_nb['WAVE'][0][7] - data1.info_nb['WAVE'][0][6])/10\n",
    "nu59 = (data1.info_nb['WAVE'][0][6]-av56)\n",
    "nu60 = data1.info_nb['WAVE'][0][6]\n",
    "nu61 = (data1.info_nb['WAVE'][0][6] + av67)\n",
    "nu62 = (data1.info_nb['WAVE'][0][6] + 2*av67)\n",
    "nu63 = (data1.info_nb['WAVE'][0][6] + 3*av67)\n",
    "nu64 = (data1.info_nb['WAVE'][0][6] + 4*av67)\n",
    "nu65 = (data1.info_nb['WAVE'][0][6] + 5*av67)\n",
    "cbar01w = ([\"{0:.3f}\".format(nu59),\"{0:.3f}\".format(nu60), \"{0:.3f}\".format(nu61), \"{0:.3f}\".format(nu62),\n",
    "           \"{0:.3f}\".format(nu63), \"{0:.3f}\".format(nu64), \"{0:.3f}\".format(nu65)])\n",
    "cbar10w = ([\"{0:.3f}\".format(nu61),\"{0:.3f}\".format(nu62),\"{0:.3f}\".format(nu63),\"{0:.3f}\".format(nu64),\n",
    "           \"{0:.3f}\".format(nu65)])\n",
    "print(cbar01w)\n",
    "print(cbar10w)"
   ]
  },
  {
   "cell_type": "code",
   "execution_count": null,
   "metadata": {},
   "outputs": [],
   "source": [
    "intc1, intc2 = np.percentile(bisec.int_core,(5,95))\n",
    "posc1, posc2 = np.percentile(bisec.pos_core,(5,95))\n",
    "posf1, posf2 = np.percentile(bisec.pos_fft, (5,95))\n",
    "fwhm1, fwhm2 = np.percentile(bisec.fwhm, (5,95))\n",
    "fig, axes = plt.subplots(nrows = 2, ncols = 2, sharex = True, sharey = True, figsize = (10,10))\n",
    "\n",
    "plt.setp(axes, xticks=[0, 200, 400, 600, 800, 999], xticklabels=ytickha ,\n",
    "         yticks=[0, 200, 400, 600, 800, 999], yticklabels = xtickha)\n",
    "\n",
    "im00 = axes[0,0].imshow(bisec.int_core.T, origin = 'lowerleft', cmap = 'gray', vmin = intc1)\n",
    "im01 = axes[0,1].imshow(bisec.pos_core.T, origin = 'lowerleft', cmap = 'gray', vmin = posc1, vmax = posc2)\n",
    "im10 = axes[1,0].imshow(bisec.pos_fft.T, origin = 'lowerleft', cmap = 'gray', vmin = posf1, vmax = posf2)\n",
    "im11 = axes[1,1].imshow(bisec.fwhm.T, origin = 'lowerleft', cmap = 'gray', vmin = fwhm1, vmax = fwhm2)\n",
    "\n",
    "cbar00 = fig.colorbar(im00, ax = axes[0,0])\n",
    "cbar01 = fig.colorbar(im01, ax = axes[0,1])\n",
    "cbar10 = fig.colorbar(im10, ax = axes[1,0])\n",
    "cbar11 = fig.colorbar(im11, ax = axes[1,1])\n",
    "cbar01.ax.set_yticklabels(cbar01w)\n",
    "cbar10.ax.set_yticklabels(cbar10w)\n",
    "axes[0,0].set_title('Light Intensity of Core')\n",
    "axes[0,1].set_title('Position of Line Core')\n",
    "axes[1,0].set_title('Interpolated Position of Line Core')\n",
    "axes[1,1].set_title('Full Width at Half Max')\n",
    "\n",
    "axes[1,0].set_xlabel('x [arcsec]')\n",
    "axes[1,1].set_xlabel('x [arcsec]')\n",
    "axes[0,0].set_ylabel('y [arcsec]')\n",
    "axes[1,0].set_ylabel('y [arcsec]')\n",
    "\n",
    "fig.savefig('BisectorStuff.png')"
   ]
  },
  {
   "cell_type": "markdown",
   "metadata": {},
   "source": [
    "# Flare Movement"
   ]
  },
  {
   "cell_type": "code",
   "execution_count": null,
   "metadata": {},
   "outputs": [],
   "source": [
    "dataname = glob.glob('/workspace/mkatilius/IDL/mData/20141025/prefiltcalib/6563_nbn/6563_nbn*.sav')\n",
    "datanbnha = []\n",
    "\n",
    "for i in range(len(dataname)):\n",
    "    datax = S.getData(dataname[i])\n",
    "    datanbnha.append(datax)"
   ]
  },
  {
   "cell_type": "code",
   "execution_count": null,
   "metadata": {},
   "outputs": [],
   "source": [
    "xs = []\n",
    "ys = []\n",
    "\n",
    "for i in range(len(datanbnha)):\n",
    "    datax, datay = S.cogfitmk2(datanbnha[i], num = 6, lim = 2200)\n",
    "    xs.append(datax)\n",
    "    ys.append(datay)"
   ]
  },
  {
   "cell_type": "code",
   "execution_count": null,
   "metadata": {},
   "outputs": [],
   "source": [
    "plt.figure(figsize = (10,10))\n",
    "for i in range(len(datanbnha)):\n",
    "    plt.scatter(xs[i],ys[i], s = 0.5 )\n",
    "    "
   ]
  },
  {
   "cell_type": "markdown",
   "metadata": {},
   "source": [
    "# Sun Images"
   ]
  },
  {
   "cell_type": "code",
   "execution_count": null,
   "metadata": {},
   "outputs": [],
   "source": [
    "flats = glob.glob('/home/mkatilius/Python/Solar_jpg/Sun_Images/20141025_*_4096_HMIIF.jpg')\n",
    "magneto = glob.glob('/home/mkatilius/Python/Solar_jpg/Magnetograms/20141025_*_1024_HMIB.jpg')\n",
    "aia131 = glob.glob('/home/mkatilius/Python/Solar_jpg/AIA_131/20141025_*_2048_0131.jpg')\n",
    "aia1700 = glob.glob('/home/mkatilius/Python/Solar_jpg/AIA_1700/20141025_*_2048_1700.jpg')"
   ]
  },
  {
   "cell_type": "code",
   "execution_count": null,
   "metadata": {},
   "outputs": [],
   "source": [
    "newflat = flats[52:77:4]\n",
    "imagef = []\n",
    "for i in range(len(newflat)):\n",
    "    imagef.append(plt.imread(newflat[i]))\n",
    "    \n",
    "newmag = magneto[52:77:4]\n",
    "imagem = []\n",
    "for i in range(len(newmag)):\n",
    "    imagem.append(plt.imread(newmag[i]))\n",
    "    \n",
    "new131 = aia131[52:77:4]\n",
    "image13 = []\n",
    "for i in range(len(new131)):\n",
    "    image13.append(plt.imread(new131[i]))\n",
    "    \n",
    "new1700 = aia1700[52:77:4]\n",
    "image17 = []\n",
    "for i in range(len(new1700)):\n",
    "    image17.append(plt.imread(new1700[i]))"
   ]
  },
  {
   "cell_type": "code",
   "execution_count": null,
   "metadata": {},
   "outputs": [],
   "source": [
    "fig, axes = plt.subplots(nrows = 1, ncols = 6, figsize = (50,6))\n",
    "fig.subplots_adjust(wspace=0.1, hspace=0)\n",
    "fig.suptitle('Zoomed in Flatfields', fontsize = 25)\n",
    "axes[0].imshow(imagef[0][2400:2900,2500:3200,:])\n",
    "axes[1].imshow(imagef[1][2400:2900,2500:3200,:])\n",
    "axes[2].imshow(imagef[2][2400:2900,2500:3200,:])\n",
    "axes[3].imshow(imagef[3][2400:2900,2500:3200,:])\n",
    "axes[4].imshow(imagef[4][2400:2900,2500:3200,:])\n",
    "axes[5].imshow(imagef[5][2400:2900,2500:3200,:])\n",
    "#axes[6].imshow(imagef[6])\n",
    "axes[0].axis('off')\n",
    "axes[1].axis('off')\n",
    "axes[2].axis('off')\n",
    "axes[3].axis('off')\n",
    "axes[4].axis('off')\n",
    "axes[5].axis('off')\n",
    "#axes[6].axis('off')\n",
    "axes[0].set_title('13:00 UTC', fontsize = 14)\n",
    "axes[1].set_title('14:00 UTC', fontsize = 14)\n",
    "axes[2].set_title('15:00 UTC', fontsize = 14)\n",
    "axes[3].set_title('16:00 UTC', fontsize = 14)\n",
    "axes[4].set_title('17:00 UTC', fontsize = 14)\n",
    "axes[5].set_title('18:00 UTC', fontsize = 14)"
   ]
  },
  {
   "cell_type": "code",
   "execution_count": null,
   "metadata": {},
   "outputs": [],
   "source": [
    "fig2, axes2 = plt.subplots(nrows = 1, ncols = 6, figsize = (40,7))\n",
    "fig2.subplots_adjust(wspace=0.1, hspace=0)\n",
    "fig2.suptitle('Zoomed in Magnetograms', fontsize = 25)\n",
    "axes2[0].imshow(imagem[0][550:775,600:825], cmap = 'gray')\n",
    "axes2[1].imshow(imagem[1][550:775,600:825], cmap = 'gray')\n",
    "axes2[2].imshow(imagem[2][550:775,600:825], cmap = 'gray')\n",
    "axes2[3].imshow(imagem[3][550:775,600:825], cmap = 'gray')\n",
    "axes2[4].imshow(imagem[4][550:775,600:825], cmap = 'gray')\n",
    "axes2[5].imshow(imagem[5][550:775,600:825], cmap = 'gray')\n",
    "#axes[6].imshow(imagem[6])\n",
    "axes2[0].axis('off')\n",
    "axes2[1].axis('off')\n",
    "axes2[2].axis('off')\n",
    "axes2[3].axis('off')\n",
    "axes2[4].axis('off')\n",
    "axes2[5].axis('off')\n",
    "#axes[6].axis('off')\n",
    "axes2[0].set_title('13:00 UTC', fontsize = 14)\n",
    "axes2[1].set_title('14:00 UTC', fontsize = 14)\n",
    "axes2[2].set_title('15:00 UTC', fontsize = 14)\n",
    "axes2[3].set_title('16:00 UTC', fontsize = 14)\n",
    "axes2[4].set_title('17:00 UTC', fontsize = 14)\n",
    "axes2[5].set_title('18:00 UTC', fontsize = 14)"
   ]
  },
  {
   "cell_type": "code",
   "execution_count": null,
   "metadata": {},
   "outputs": [],
   "source": [
    "fig2, axes2 = plt.subplots(nrows = 1, ncols = 6, figsize = (40,7))\n",
    "fig2.subplots_adjust(wspace=0.1, hspace=0)\n",
    "fig2.suptitle('Zoomed in 131 Angstroms', fontsize = 25)\n",
    "axes2[0].imshow(image13[0][1000:1550,1125:1600])\n",
    "axes2[1].imshow(image13[1][1000:1550,1125:1600])\n",
    "axes2[2].imshow(image13[2][1000:1550,1125:1600])\n",
    "axes2[3].imshow(image13[3][1000:1550,1125:1600])\n",
    "axes2[4].imshow(image13[4][1000:1550,1125:1600])\n",
    "axes2[5].imshow(image13[5][1000:1550,1125:1600])\n",
    "#axes[6].imshow(imagem[6])\n",
    "axes2[0].axis('off')\n",
    "axes2[1].axis('off')\n",
    "axes2[2].axis('off')\n",
    "axes2[3].axis('off')\n",
    "axes2[4].axis('off')\n",
    "axes2[5].axis('off')\n",
    "#axes[6].axis('off')\n",
    "axes2[0].set_title('13:12 UTC', fontsize = 14)\n",
    "axes2[1].set_title('14:12 UTC', fontsize = 14)\n",
    "axes2[2].set_title('15:12 UTC', fontsize = 14)\n",
    "axes2[3].set_title('16:12 UTC', fontsize = 14)\n",
    "axes2[4].set_title('17:12 UTC', fontsize = 14)\n",
    "axes2[5].set_title('18:12 UTC', fontsize = 14)"
   ]
  },
  {
   "cell_type": "code",
   "execution_count": null,
   "metadata": {},
   "outputs": [],
   "source": [
    "fig3, axes3 = plt.subplots(nrows = 1, ncols = 6, figsize = (40,7))\n",
    "fig3.subplots_adjust(wspace=0.1, hspace=0)\n",
    "fig3.suptitle('Zoomed in 1700 Angstroms', fontsize = 25)\n",
    "axes3[0].imshow(image17[0][1000:1550,1125:1600])\n",
    "axes3[1].imshow(image17[1][1000:1550,1125:1600])\n",
    "axes3[2].imshow(image17[2][1000:1550,1125:1600])\n",
    "axes3[3].imshow(image17[3][1000:1550,1125:1600])\n",
    "axes3[4].imshow(image17[4][1000:1550,1125:1600])\n",
    "axes3[5].imshow(image17[5][1000:1550,1125:1600])\n",
    "#axes[6].imshow(imagem[6])\n",
    "axes3[0].axis('off')\n",
    "axes3[1].axis('off')\n",
    "axes3[2].axis('off')\n",
    "axes3[3].axis('off')\n",
    "axes3[4].axis('off')\n",
    "axes3[5].axis('off')\n",
    "#axes[6].axis('off')\n",
    "axes3[0].set_title('13:03 UTC', fontsize = 14)\n",
    "axes3[1].set_title('14:03 UTC', fontsize = 14)\n",
    "axes3[2].set_title('15:03 UTC', fontsize = 14)\n",
    "axes3[3].set_title('16:03 UTC', fontsize = 14)\n",
    "axes3[4].set_title('17:03 UTC', fontsize = 14)\n",
    "axes3[5].set_title('18:03 UTC', fontsize = 14)"
   ]
  },
  {
   "cell_type": "markdown",
   "metadata": {},
   "source": [
    "# Changing Flare"
   ]
  },
  {
   "cell_type": "code",
   "execution_count": null,
   "metadata": {},
   "outputs": [],
   "source": [
    "dataname = glob.glob('/workspace/mkatilius/IDL/mData/20141025/prefiltcalib/6563_nbn/6563_nbn*.sav')\n",
    "datanbha = []\n",
    "\n",
    "for i in range(len(dataname)):\n",
    "    datax = S.getData(dataname[i])\n",
    "    datanbha.append(datax)"
   ]
  },
  {
   "cell_type": "code",
   "execution_count": null,
   "metadata": {},
   "outputs": [],
   "source": [
    "plt.imshow(datanbha[173].nb_data_crrt[6,:,:].T,origin = 'lowerleft',cmap = 'gray')"
   ]
  },
  {
   "cell_type": "code",
   "execution_count": null,
   "metadata": {},
   "outputs": [],
   "source": [
    "waveha = data1.info_nb['WAVE'][0]\n",
    "datarr = []\n",
    "for a in range(len(datanbha)):\n",
    "    datarr.append([])\n",
    "    for b in range(len(datanbha[0].nb_data_crrt[6,:,:])):\n",
    "        datarr[a].append(datanbha[a].nb_data_crrt[6,400,b])"
   ]
  },
  {
   "cell_type": "code",
   "execution_count": null,
   "metadata": {},
   "outputs": [],
   "source": [
    "yticklabel = [times[0][0:8],times[50][0:8],times[100][0:8],times[150][0:8]]\n",
    "plt.figure(figsize = (10,10))\n",
    "plt.imshow(np.array(datarr), origin = 'lowerleft', cmap = 'gray')\n",
    "plt.title(f'Solar Flare Width in Time at {waveha[6]:.02f} nm')\n",
    "plt.xlabel('x [arcsec]')\n",
    "plt.xticks(np.arange(0,1001,200), xtickha)\n",
    "plt.ylabel('Time in UTC')\n",
    "plt.yticks(np.arange(0,200,50),yticklabel)\n",
    "plt.savefig('Flaretime.png')"
   ]
  },
  {
   "cell_type": "code",
   "execution_count": null,
   "metadata": {},
   "outputs": [],
   "source": [
    "yticklabel"
   ]
  },
  {
   "cell_type": "code",
   "execution_count": null,
   "metadata": {},
   "outputs": [],
   "source": [
    "wave = datanbha[0].info_nb['WAVE'][0][6]/10"
   ]
  },
  {
   "cell_type": "markdown",
   "metadata": {},
   "source": [
    "# Contour Plots"
   ]
  },
  {
   "cell_type": "code",
   "execution_count": null,
   "metadata": {
    "scrolled": true
   },
   "outputs": [],
   "source": [
    "bisec = S.getData('/workspace/mkatilius/IDL/mData/20141025/bisec/6563_bisec_089.sav')\n",
    "xtickha = ['0',f'{200*.0954204:0.3f}',f'{400*.0954204:0.3f}',f'{600*.0954204:0.3f}',\n",
    "         f'{800*.0954204:0.3f}',f'{1000*.0954204:0.3f}']\n",
    "ytickha = ['0',f'{200*.0974302:0.3f}',f'{400*.0974302:0.3f}',f'{600*.0974302:0.3f}',\n",
    "         f'{800*.0974302:0.3f}',f'{1000*.0974302:0.3f}']"
   ]
  },
  {
   "cell_type": "code",
   "execution_count": null,
   "metadata": {},
   "outputs": [],
   "source": [
    "levelsc = [0,400,800,1200,1600,2000,2100]\n",
    "intc1, intc2 = np.percentile(bisec.int_core,(5,95))\n",
    "plt.figure(figsize = (20,20))\n",
    "plt.imshow(bisec.int_core.T, cmap = 'gray', origin = 'lower', vmin = intc1)\n",
    "cp = plt.contour(bisec.int_core.T, levels = levelsc)\n",
    "\n",
    "plt.title('Contour plot of the Filaments for the Intensity in the Core of H-Alpha')\n",
    "plt.xticks(np.arange(0,1001,200), xtickha)\n",
    "plt.yticks(np.arange(0,1001,200), ytickha)\n",
    "plt.xlabel('x [arcsec]')\n",
    "plt.ylabel('y [arcsec]')\n",
    "\n",
    "norm= matplotlib.colors.Normalize(vmin = cp.cvalues.min(), vmax = cp.cvalues.max())\n",
    "sm = plt.cm.ScalarMappable(norm=norm, cmap = cp.cmap)\n",
    "sm.set_array([])\n",
    "clb = plt.colorbar(sm, ticks=cp.levels)\n",
    "clb.ax.set_title('Light Intensities')\n",
    "\n",
    "plt.savefig('Filament_Contour.png')"
   ]
  },
  {
   "cell_type": "markdown",
   "metadata": {},
   "source": [
    "# Changing Flare\n"
   ]
  },
  {
   "cell_type": "code",
   "execution_count": null,
   "metadata": {},
   "outputs": [],
   "source": [
    "dataname = glob.glob('D:\\\\Coding\\\\Harris\\\\IDL\\\\DATA_Minda\\\\20141025\\\\prefiltcalib\\\\6563_nbn\\\\6563_nbn*.sav')\n",
    "datanbha = []\n",
    "\n",
    "for i in range(len(dataname)):\n",
    "    datax = S.getData(dataname[i])\n",
    "    datanbha.append(datax)\n"
   ]
  },
  {
   "cell_type": "code",
   "execution_count": null,
   "metadata": {},
   "outputs": [],
   "source": [
    "plt.imshow(datanbha[173].nb_data_crrt[6,:,:],origin = 'lowerleft')"
   ]
  },
  {
   "cell_type": "code",
   "execution_count": null,
   "metadata": {},
   "outputs": [],
   "source": [
    "datarr = []\n",
    "for a in range(len(datanbha)):\n",
    "    datarr.append([])\n",
    "    for b in range(len(datanbha[0].nb_data_crrt[6,:,:])):\n",
    "        datarr[a].append(datanbha[a].nb_data_crrt[6,400,b])"
   ]
  },
  {
   "cell_type": "code",
   "execution_count": null,
   "metadata": {},
   "outputs": [],
   "source": [
    "plt.figure(figsize = (10,10))\n",
    "plt.imshow(np.array(datarr), origin = 'lowerleft', cmap = 'gray')\n",
    "plt.title('Solar Flare Width in Time')\n",
    "plt.savefig('Flaretime')"
   ]
  }
 ],
 "metadata": {
  "kernelspec": {
   "display_name": "Python 3",
   "language": "python",
   "name": "python3"
  },
  "language_info": {
   "codemirror_mode": {
    "name": "ipython",
    "version": 3
   },
   "file_extension": ".py",
   "mimetype": "text/x-python",
   "name": "python",
   "nbconvert_exporter": "python",
   "pygments_lexer": "ipython3",
   "version": "3.7.3"
  }
 },
 "nbformat": 4,
 "nbformat_minor": 2
}
